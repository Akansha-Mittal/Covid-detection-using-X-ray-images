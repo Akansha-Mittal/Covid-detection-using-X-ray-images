{
  "nbformat": 4,
  "nbformat_minor": 0,
  "metadata": {
    "kernelspec": {
      "display_name": "Python 3",
      "language": "python",
      "name": "python3"
    },
    "language_info": {
      "codemirror_mode": {
        "name": "ipython",
        "version": 3
      },
      "file_extension": ".py",
      "mimetype": "text/x-python",
      "name": "python",
      "nbconvert_exporter": "python",
      "pygments_lexer": "ipython3",
      "version": "3.7.4"
    },
    "colab": {
      "name": "Covid_19_detector.ipynb",
      "provenance": []
    }
  },
  "cells": [
    {
      "cell_type": "code",
      "metadata": {
        "id": "iW5MYkl1Gg4s"
      },
      "source": [
        "import pandas as pd\n",
        "import os\n",
        "import shutil"
      ],
      "execution_count": null,
      "outputs": []
    },
    {
      "cell_type": "code",
      "metadata": {
        "id": "0fz-wrtuZFiu",
        "colab": {
          "base_uri": "https://localhost:8080/"
        },
        "outputId": "26a3bdde-b36b-4097-fa28-920c04bf2bcf"
      },
      "source": [
        "from google.colab import drive\n",
        "drive.mount('/content/drive')"
      ],
      "execution_count": null,
      "outputs": [
        {
          "output_type": "stream",
          "name": "stdout",
          "text": [
            "Mounted at /content/drive\n"
          ]
        }
      ]
    },
    {
      "cell_type": "code",
      "source": [
        "FILE_PATH = \"/content/drive/MyDrive/chest_xray/metadata.csv\"\n",
        "IMAGE_PATH = \"/content/drive/MyDrive/chest_xray/images\""
      ],
      "metadata": {
        "id": "NKKau2Utv_32"
      },
      "execution_count": null,
      "outputs": []
    },
    {
      "cell_type": "code",
      "source": [
        "df = pd.read_csv(FILE_PATH)\n",
        "print(df.shape)"
      ],
      "metadata": {
        "colab": {
          "base_uri": "https://localhost:8080/"
        },
        "id": "eNdAygacwV4r",
        "outputId": "a1813d86-9866-4185-b199-ef9c1f5f84b1"
      },
      "execution_count": null,
      "outputs": [
        {
          "output_type": "stream",
          "name": "stdout",
          "text": [
            "(950, 30)\n"
          ]
        }
      ]
    },
    {
      "cell_type": "code",
      "source": [
        "df.head()"
      ],
      "metadata": {
        "colab": {
          "base_uri": "https://localhost:8080/",
          "height": 664
        },
        "id": "XvCAgkWzwix6",
        "outputId": "b484031c-637f-49c7-941d-074f54a42585"
      },
      "execution_count": null,
      "outputs": [
        {
          "output_type": "execute_result",
          "data": {
            "text/plain": [
              "  patientid  offset sex   age                   finding RT_PCR_positive  \\\n",
              "0         2     0.0   M  65.0  Pneumonia/Viral/COVID-19               Y   \n",
              "1         2     3.0   M  65.0  Pneumonia/Viral/COVID-19               Y   \n",
              "2         2     5.0   M  65.0  Pneumonia/Viral/COVID-19               Y   \n",
              "3         2     6.0   M  65.0  Pneumonia/Viral/COVID-19               Y   \n",
              "4         4     0.0   F  52.0  Pneumonia/Viral/COVID-19               Y   \n",
              "\n",
              "  survival intubated intubation_present went_icu  ...              date  \\\n",
              "0        Y         N                  N        N  ...  January 22, 2020   \n",
              "1        Y         N                  N        N  ...  January 25, 2020   \n",
              "2        Y         N                  N        N  ...  January 27, 2020   \n",
              "3        Y         N                  N        N  ...  January 28, 2020   \n",
              "4      NaN         N                  N        N  ...  January 25, 2020   \n",
              "\n",
              "                                            location  folder  \\\n",
              "0        Cho Ray Hospital, Ho Chi Minh City, Vietnam  images   \n",
              "1        Cho Ray Hospital, Ho Chi Minh City, Vietnam  images   \n",
              "2        Cho Ray Hospital, Ho Chi Minh City, Vietnam  images   \n",
              "3        Cho Ray Hospital, Ho Chi Minh City, Vietnam  images   \n",
              "4  Changhua Christian Hospital, Changhua City, Ta...  images   \n",
              "\n",
              "                                            filename                   doi  \\\n",
              "0  auntminnie-a-2020_01_28_23_51_6665_2020_01_28_...  10.1056/nejmc2001272   \n",
              "1  auntminnie-b-2020_01_28_23_51_6665_2020_01_28_...  10.1056/nejmc2001272   \n",
              "2  auntminnie-c-2020_01_28_23_51_6665_2020_01_28_...  10.1056/nejmc2001272   \n",
              "3  auntminnie-d-2020_01_28_23_51_6665_2020_01_28_...  10.1056/nejmc2001272   \n",
              "4                              nejmc2001573_f1a.jpeg  10.1056/NEJMc2001573   \n",
              "\n",
              "                                                 url  license  \\\n",
              "0  https://www.nejm.org/doi/full/10.1056/NEJMc200...      NaN   \n",
              "1  https://www.nejm.org/doi/full/10.1056/NEJMc200...      NaN   \n",
              "2  https://www.nejm.org/doi/full/10.1056/NEJMc200...      NaN   \n",
              "3  https://www.nejm.org/doi/full/10.1056/NEJMc200...      NaN   \n",
              "4  https://www.nejm.org/doi/full/10.1056/NEJMc200...      NaN   \n",
              "\n",
              "                                      clinical_notes other_notes Unnamed: 29  \n",
              "0  On January 22, 2020, a 65-year-old man with a ...         NaN         NaN  \n",
              "1  On January 22, 2020, a 65-year-old man with a ...         NaN         NaN  \n",
              "2  On January 22, 2020, a 65-year-old man with a ...         NaN         NaN  \n",
              "3  On January 22, 2020, a 65-year-old man with a ...         NaN         NaN  \n",
              "4   diffuse infiltrates in the bilateral lower lungs         NaN         NaN  \n",
              "\n",
              "[5 rows x 30 columns]"
            ],
            "text/html": [
              "\n",
              "  <div id=\"df-b6fdad97-f030-469f-9148-b9426e31bce1\">\n",
              "    <div class=\"colab-df-container\">\n",
              "      <div>\n",
              "<style scoped>\n",
              "    .dataframe tbody tr th:only-of-type {\n",
              "        vertical-align: middle;\n",
              "    }\n",
              "\n",
              "    .dataframe tbody tr th {\n",
              "        vertical-align: top;\n",
              "    }\n",
              "\n",
              "    .dataframe thead th {\n",
              "        text-align: right;\n",
              "    }\n",
              "</style>\n",
              "<table border=\"1\" class=\"dataframe\">\n",
              "  <thead>\n",
              "    <tr style=\"text-align: right;\">\n",
              "      <th></th>\n",
              "      <th>patientid</th>\n",
              "      <th>offset</th>\n",
              "      <th>sex</th>\n",
              "      <th>age</th>\n",
              "      <th>finding</th>\n",
              "      <th>RT_PCR_positive</th>\n",
              "      <th>survival</th>\n",
              "      <th>intubated</th>\n",
              "      <th>intubation_present</th>\n",
              "      <th>went_icu</th>\n",
              "      <th>...</th>\n",
              "      <th>date</th>\n",
              "      <th>location</th>\n",
              "      <th>folder</th>\n",
              "      <th>filename</th>\n",
              "      <th>doi</th>\n",
              "      <th>url</th>\n",
              "      <th>license</th>\n",
              "      <th>clinical_notes</th>\n",
              "      <th>other_notes</th>\n",
              "      <th>Unnamed: 29</th>\n",
              "    </tr>\n",
              "  </thead>\n",
              "  <tbody>\n",
              "    <tr>\n",
              "      <th>0</th>\n",
              "      <td>2</td>\n",
              "      <td>0.0</td>\n",
              "      <td>M</td>\n",
              "      <td>65.0</td>\n",
              "      <td>Pneumonia/Viral/COVID-19</td>\n",
              "      <td>Y</td>\n",
              "      <td>Y</td>\n",
              "      <td>N</td>\n",
              "      <td>N</td>\n",
              "      <td>N</td>\n",
              "      <td>...</td>\n",
              "      <td>January 22, 2020</td>\n",
              "      <td>Cho Ray Hospital, Ho Chi Minh City, Vietnam</td>\n",
              "      <td>images</td>\n",
              "      <td>auntminnie-a-2020_01_28_23_51_6665_2020_01_28_...</td>\n",
              "      <td>10.1056/nejmc2001272</td>\n",
              "      <td>https://www.nejm.org/doi/full/10.1056/NEJMc200...</td>\n",
              "      <td>NaN</td>\n",
              "      <td>On January 22, 2020, a 65-year-old man with a ...</td>\n",
              "      <td>NaN</td>\n",
              "      <td>NaN</td>\n",
              "    </tr>\n",
              "    <tr>\n",
              "      <th>1</th>\n",
              "      <td>2</td>\n",
              "      <td>3.0</td>\n",
              "      <td>M</td>\n",
              "      <td>65.0</td>\n",
              "      <td>Pneumonia/Viral/COVID-19</td>\n",
              "      <td>Y</td>\n",
              "      <td>Y</td>\n",
              "      <td>N</td>\n",
              "      <td>N</td>\n",
              "      <td>N</td>\n",
              "      <td>...</td>\n",
              "      <td>January 25, 2020</td>\n",
              "      <td>Cho Ray Hospital, Ho Chi Minh City, Vietnam</td>\n",
              "      <td>images</td>\n",
              "      <td>auntminnie-b-2020_01_28_23_51_6665_2020_01_28_...</td>\n",
              "      <td>10.1056/nejmc2001272</td>\n",
              "      <td>https://www.nejm.org/doi/full/10.1056/NEJMc200...</td>\n",
              "      <td>NaN</td>\n",
              "      <td>On January 22, 2020, a 65-year-old man with a ...</td>\n",
              "      <td>NaN</td>\n",
              "      <td>NaN</td>\n",
              "    </tr>\n",
              "    <tr>\n",
              "      <th>2</th>\n",
              "      <td>2</td>\n",
              "      <td>5.0</td>\n",
              "      <td>M</td>\n",
              "      <td>65.0</td>\n",
              "      <td>Pneumonia/Viral/COVID-19</td>\n",
              "      <td>Y</td>\n",
              "      <td>Y</td>\n",
              "      <td>N</td>\n",
              "      <td>N</td>\n",
              "      <td>N</td>\n",
              "      <td>...</td>\n",
              "      <td>January 27, 2020</td>\n",
              "      <td>Cho Ray Hospital, Ho Chi Minh City, Vietnam</td>\n",
              "      <td>images</td>\n",
              "      <td>auntminnie-c-2020_01_28_23_51_6665_2020_01_28_...</td>\n",
              "      <td>10.1056/nejmc2001272</td>\n",
              "      <td>https://www.nejm.org/doi/full/10.1056/NEJMc200...</td>\n",
              "      <td>NaN</td>\n",
              "      <td>On January 22, 2020, a 65-year-old man with a ...</td>\n",
              "      <td>NaN</td>\n",
              "      <td>NaN</td>\n",
              "    </tr>\n",
              "    <tr>\n",
              "      <th>3</th>\n",
              "      <td>2</td>\n",
              "      <td>6.0</td>\n",
              "      <td>M</td>\n",
              "      <td>65.0</td>\n",
              "      <td>Pneumonia/Viral/COVID-19</td>\n",
              "      <td>Y</td>\n",
              "      <td>Y</td>\n",
              "      <td>N</td>\n",
              "      <td>N</td>\n",
              "      <td>N</td>\n",
              "      <td>...</td>\n",
              "      <td>January 28, 2020</td>\n",
              "      <td>Cho Ray Hospital, Ho Chi Minh City, Vietnam</td>\n",
              "      <td>images</td>\n",
              "      <td>auntminnie-d-2020_01_28_23_51_6665_2020_01_28_...</td>\n",
              "      <td>10.1056/nejmc2001272</td>\n",
              "      <td>https://www.nejm.org/doi/full/10.1056/NEJMc200...</td>\n",
              "      <td>NaN</td>\n",
              "      <td>On January 22, 2020, a 65-year-old man with a ...</td>\n",
              "      <td>NaN</td>\n",
              "      <td>NaN</td>\n",
              "    </tr>\n",
              "    <tr>\n",
              "      <th>4</th>\n",
              "      <td>4</td>\n",
              "      <td>0.0</td>\n",
              "      <td>F</td>\n",
              "      <td>52.0</td>\n",
              "      <td>Pneumonia/Viral/COVID-19</td>\n",
              "      <td>Y</td>\n",
              "      <td>NaN</td>\n",
              "      <td>N</td>\n",
              "      <td>N</td>\n",
              "      <td>N</td>\n",
              "      <td>...</td>\n",
              "      <td>January 25, 2020</td>\n",
              "      <td>Changhua Christian Hospital, Changhua City, Ta...</td>\n",
              "      <td>images</td>\n",
              "      <td>nejmc2001573_f1a.jpeg</td>\n",
              "      <td>10.1056/NEJMc2001573</td>\n",
              "      <td>https://www.nejm.org/doi/full/10.1056/NEJMc200...</td>\n",
              "      <td>NaN</td>\n",
              "      <td>diffuse infiltrates in the bilateral lower lungs</td>\n",
              "      <td>NaN</td>\n",
              "      <td>NaN</td>\n",
              "    </tr>\n",
              "  </tbody>\n",
              "</table>\n",
              "<p>5 rows × 30 columns</p>\n",
              "</div>\n",
              "      <button class=\"colab-df-convert\" onclick=\"convertToInteractive('df-b6fdad97-f030-469f-9148-b9426e31bce1')\"\n",
              "              title=\"Convert this dataframe to an interactive table.\"\n",
              "              style=\"display:none;\">\n",
              "        \n",
              "  <svg xmlns=\"http://www.w3.org/2000/svg\" height=\"24px\"viewBox=\"0 0 24 24\"\n",
              "       width=\"24px\">\n",
              "    <path d=\"M0 0h24v24H0V0z\" fill=\"none\"/>\n",
              "    <path d=\"M18.56 5.44l.94 2.06.94-2.06 2.06-.94-2.06-.94-.94-2.06-.94 2.06-2.06.94zm-11 1L8.5 8.5l.94-2.06 2.06-.94-2.06-.94L8.5 2.5l-.94 2.06-2.06.94zm10 10l.94 2.06.94-2.06 2.06-.94-2.06-.94-.94-2.06-.94 2.06-2.06.94z\"/><path d=\"M17.41 7.96l-1.37-1.37c-.4-.4-.92-.59-1.43-.59-.52 0-1.04.2-1.43.59L10.3 9.45l-7.72 7.72c-.78.78-.78 2.05 0 2.83L4 21.41c.39.39.9.59 1.41.59.51 0 1.02-.2 1.41-.59l7.78-7.78 2.81-2.81c.8-.78.8-2.07 0-2.86zM5.41 20L4 18.59l7.72-7.72 1.47 1.35L5.41 20z\"/>\n",
              "  </svg>\n",
              "      </button>\n",
              "      \n",
              "  <style>\n",
              "    .colab-df-container {\n",
              "      display:flex;\n",
              "      flex-wrap:wrap;\n",
              "      gap: 12px;\n",
              "    }\n",
              "\n",
              "    .colab-df-convert {\n",
              "      background-color: #E8F0FE;\n",
              "      border: none;\n",
              "      border-radius: 50%;\n",
              "      cursor: pointer;\n",
              "      display: none;\n",
              "      fill: #1967D2;\n",
              "      height: 32px;\n",
              "      padding: 0 0 0 0;\n",
              "      width: 32px;\n",
              "    }\n",
              "\n",
              "    .colab-df-convert:hover {\n",
              "      background-color: #E2EBFA;\n",
              "      box-shadow: 0px 1px 2px rgba(60, 64, 67, 0.3), 0px 1px 3px 1px rgba(60, 64, 67, 0.15);\n",
              "      fill: #174EA6;\n",
              "    }\n",
              "\n",
              "    [theme=dark] .colab-df-convert {\n",
              "      background-color: #3B4455;\n",
              "      fill: #D2E3FC;\n",
              "    }\n",
              "\n",
              "    [theme=dark] .colab-df-convert:hover {\n",
              "      background-color: #434B5C;\n",
              "      box-shadow: 0px 1px 3px 1px rgba(0, 0, 0, 0.15);\n",
              "      filter: drop-shadow(0px 1px 2px rgba(0, 0, 0, 0.3));\n",
              "      fill: #FFFFFF;\n",
              "    }\n",
              "  </style>\n",
              "\n",
              "      <script>\n",
              "        const buttonEl =\n",
              "          document.querySelector('#df-b6fdad97-f030-469f-9148-b9426e31bce1 button.colab-df-convert');\n",
              "        buttonEl.style.display =\n",
              "          google.colab.kernel.accessAllowed ? 'block' : 'none';\n",
              "\n",
              "        async function convertToInteractive(key) {\n",
              "          const element = document.querySelector('#df-b6fdad97-f030-469f-9148-b9426e31bce1');\n",
              "          const dataTable =\n",
              "            await google.colab.kernel.invokeFunction('convertToInteractive',\n",
              "                                                     [key], {});\n",
              "          if (!dataTable) return;\n",
              "\n",
              "          const docLinkHtml = 'Like what you see? Visit the ' +\n",
              "            '<a target=\"_blank\" href=https://colab.research.google.com/notebooks/data_table.ipynb>data table notebook</a>'\n",
              "            + ' to learn more about interactive tables.';\n",
              "          element.innerHTML = '';\n",
              "          dataTable['output_type'] = 'display_data';\n",
              "          await google.colab.output.renderOutput(dataTable, element);\n",
              "          const docLink = document.createElement('div');\n",
              "          docLink.innerHTML = docLinkHtml;\n",
              "          element.appendChild(docLink);\n",
              "        }\n",
              "      </script>\n",
              "    </div>\n",
              "  </div>\n",
              "  "
            ]
          },
          "metadata": {},
          "execution_count": 5
        }
      ]
    },
    {
      "cell_type": "code",
      "source": [
        "TARGET_DIR = \"/content/drive/MyDrive/chest_xray/Dataset/Covid\"\n",
        "\n",
        "if not os.path.exists(TARGET_DIR):\n",
        "  os.mkdir(TARGET_DIR)\n",
        "  print(\"Covid folder created\")"
      ],
      "metadata": {
        "id": "TncmSsWixK-p"
      },
      "execution_count": null,
      "outputs": []
    },
    {
      "cell_type": "code",
      "source": [
        "cnt = 0\n",
        "\n",
        "for(i,row) in df.iterrows():\n",
        "  if row[\"RT_PCR_positive\"] == \"Y\" and row[\"view\"]==\"PA\":\n",
        "    cnt += 1;\n",
        "    filename = row[\"filename\"]\n",
        "    image_path = os.path.join(IMAGE_PATH,filename)\n",
        "    image_copy_path = os.path.join(TARGET_DIR,filename)\n",
        "    shutil.copy2(image_path,image_copy_path)\n",
        "    print(\"moving image \",cnt)"
      ],
      "metadata": {
        "colab": {
          "base_uri": "https://localhost:8080/"
        },
        "id": "8wVjIHhpziFi",
        "outputId": "8b76d63c-b78f-4976-9a19-bf78997158c5"
      },
      "execution_count": null,
      "outputs": [
        {
          "output_type": "stream",
          "name": "stdout",
          "text": [
            "moving image  1\n",
            "moving image  2\n",
            "moving image  3\n",
            "moving image  4\n",
            "moving image  5\n",
            "moving image  6\n",
            "moving image  7\n",
            "moving image  8\n",
            "moving image  9\n",
            "moving image  10\n",
            "moving image  11\n",
            "moving image  12\n",
            "moving image  13\n",
            "moving image  14\n",
            "moving image  15\n",
            "moving image  16\n",
            "moving image  17\n",
            "moving image  18\n",
            "moving image  19\n",
            "moving image  20\n",
            "moving image  21\n",
            "moving image  22\n",
            "moving image  23\n",
            "moving image  24\n",
            "moving image  25\n",
            "moving image  26\n",
            "moving image  27\n",
            "moving image  28\n",
            "moving image  29\n",
            "moving image  30\n",
            "moving image  31\n",
            "moving image  32\n",
            "moving image  33\n",
            "moving image  34\n",
            "moving image  35\n",
            "moving image  36\n",
            "moving image  37\n",
            "moving image  38\n",
            "moving image  39\n",
            "moving image  40\n",
            "moving image  41\n",
            "moving image  42\n",
            "moving image  43\n",
            "moving image  44\n",
            "moving image  45\n",
            "moving image  46\n",
            "moving image  47\n",
            "moving image  48\n",
            "moving image  49\n",
            "moving image  50\n",
            "moving image  51\n",
            "moving image  52\n",
            "moving image  53\n",
            "moving image  54\n",
            "moving image  55\n",
            "moving image  56\n",
            "moving image  57\n",
            "moving image  58\n",
            "moving image  59\n",
            "moving image  60\n",
            "moving image  61\n",
            "moving image  62\n",
            "moving image  63\n",
            "moving image  64\n",
            "moving image  65\n",
            "moving image  66\n",
            "moving image  67\n",
            "moving image  68\n",
            "moving image  69\n",
            "moving image  70\n",
            "moving image  71\n",
            "moving image  72\n",
            "moving image  73\n",
            "moving image  74\n",
            "moving image  75\n",
            "moving image  76\n",
            "moving image  77\n",
            "moving image  78\n",
            "moving image  79\n",
            "moving image  80\n",
            "moving image  81\n",
            "moving image  82\n",
            "moving image  83\n",
            "moving image  84\n",
            "moving image  85\n",
            "moving image  86\n",
            "moving image  87\n",
            "moving image  88\n",
            "moving image  89\n",
            "moving image  90\n",
            "moving image  91\n",
            "moving image  92\n",
            "moving image  93\n",
            "moving image  94\n",
            "moving image  95\n",
            "moving image  96\n",
            "moving image  97\n",
            "moving image  98\n",
            "moving image  99\n",
            "moving image  100\n",
            "moving image  101\n",
            "moving image  102\n",
            "moving image  103\n",
            "moving image  104\n",
            "moving image  105\n",
            "moving image  106\n",
            "moving image  107\n",
            "moving image  108\n",
            "moving image  109\n",
            "moving image  110\n",
            "moving image  111\n",
            "moving image  112\n",
            "moving image  113\n",
            "moving image  114\n",
            "moving image  115\n",
            "moving image  116\n"
          ]
        }
      ]
    },
    {
      "cell_type": "code",
      "source": [
        "import random"
      ],
      "metadata": {
        "id": "Brhbdqhz6gvg"
      },
      "execution_count": null,
      "outputs": []
    },
    {
      "cell_type": "code",
      "source": [
        "KAGGLE_FILE_PATH = \"/content/drive/MyDrive/chest_xray_kaggle/train/NORMAL\"\n",
        "TARGET_NORMAL_DIR = \"/content/drive/MyDrive/chest_xray/Dataset/Normal\""
      ],
      "metadata": {
        "id": "mbTOmN5r7tbc"
      },
      "execution_count": null,
      "outputs": []
    },
    {
      "cell_type": "code",
      "source": [
        "image_names = os.listdir(KAGGLE_FILE_PATH)"
      ],
      "metadata": {
        "id": "HZ9h3ls-8NWh"
      },
      "execution_count": null,
      "outputs": []
    },
    {
      "cell_type": "code",
      "source": [
        "random.shuffle(image_names)"
      ],
      "metadata": {
        "id": "HhCn0hB38hQF"
      },
      "execution_count": null,
      "outputs": []
    },
    {
      "cell_type": "code",
      "source": [
        "for i in range(116):\n",
        "  image_name = image_names[i]\n",
        "  image_path = os.path.join(KAGGLE_FILE_PATH,image_name)\n",
        "  target_path = os.path.join(TARGET_NORMAL_DIR,image_name)\n",
        "  shutil.copy2(image_path,target_path)\n",
        "  print(\"copying image \",i)"
      ],
      "metadata": {
        "colab": {
          "base_uri": "https://localhost:8080/"
        },
        "id": "hAWMAwAQ8q8K",
        "outputId": "5380bf8a-7945-4731-9ea1-172dda074f9a"
      },
      "execution_count": null,
      "outputs": [
        {
          "output_type": "stream",
          "name": "stdout",
          "text": [
            "copying image  0\n",
            "copying image  1\n",
            "copying image  2\n",
            "copying image  3\n",
            "copying image  4\n",
            "copying image  5\n",
            "copying image  6\n",
            "copying image  7\n",
            "copying image  8\n",
            "copying image  9\n",
            "copying image  10\n",
            "copying image  11\n",
            "copying image  12\n",
            "copying image  13\n",
            "copying image  14\n",
            "copying image  15\n",
            "copying image  16\n",
            "copying image  17\n",
            "copying image  18\n",
            "copying image  19\n",
            "copying image  20\n",
            "copying image  21\n",
            "copying image  22\n",
            "copying image  23\n",
            "copying image  24\n",
            "copying image  25\n",
            "copying image  26\n",
            "copying image  27\n",
            "copying image  28\n",
            "copying image  29\n",
            "copying image  30\n",
            "copying image  31\n",
            "copying image  32\n",
            "copying image  33\n",
            "copying image  34\n",
            "copying image  35\n",
            "copying image  36\n",
            "copying image  37\n",
            "copying image  38\n",
            "copying image  39\n",
            "copying image  40\n",
            "copying image  41\n",
            "copying image  42\n",
            "copying image  43\n",
            "copying image  44\n",
            "copying image  45\n",
            "copying image  46\n",
            "copying image  47\n",
            "copying image  48\n",
            "copying image  49\n",
            "copying image  50\n",
            "copying image  51\n",
            "copying image  52\n",
            "copying image  53\n",
            "copying image  54\n",
            "copying image  55\n",
            "copying image  56\n",
            "copying image  57\n",
            "copying image  58\n",
            "copying image  59\n",
            "copying image  60\n",
            "copying image  61\n",
            "copying image  62\n",
            "copying image  63\n",
            "copying image  64\n",
            "copying image  65\n",
            "copying image  66\n",
            "copying image  67\n",
            "copying image  68\n",
            "copying image  69\n",
            "copying image  70\n",
            "copying image  71\n",
            "copying image  72\n",
            "copying image  73\n",
            "copying image  74\n",
            "copying image  75\n",
            "copying image  76\n",
            "copying image  77\n",
            "copying image  78\n",
            "copying image  79\n",
            "copying image  80\n",
            "copying image  81\n",
            "copying image  82\n",
            "copying image  83\n",
            "copying image  84\n",
            "copying image  85\n",
            "copying image  86\n",
            "copying image  87\n",
            "copying image  88\n",
            "copying image  89\n",
            "copying image  90\n",
            "copying image  91\n",
            "copying image  92\n",
            "copying image  93\n",
            "copying image  94\n",
            "copying image  95\n",
            "copying image  96\n",
            "copying image  97\n",
            "copying image  98\n",
            "copying image  99\n",
            "copying image  100\n",
            "copying image  101\n",
            "copying image  102\n",
            "copying image  103\n",
            "copying image  104\n",
            "copying image  105\n",
            "copying image  106\n",
            "copying image  107\n",
            "copying image  108\n",
            "copying image  109\n",
            "copying image  110\n",
            "copying image  111\n",
            "copying image  112\n",
            "copying image  113\n",
            "copying image  114\n",
            "copying image  115\n"
          ]
        }
      ]
    },
    {
      "cell_type": "code",
      "source": [
        "TRAIN_PATH = \"/content/drive/MyDrive/CovidDataset/Train\"\n",
        "VAL_PATH = \"/content/drive/MyDrive/CovidDataset/Val\""
      ],
      "metadata": {
        "id": "Nmpw80Xb95wr"
      },
      "execution_count": null,
      "outputs": []
    },
    {
      "cell_type": "code",
      "source": [
        "import numpy as np\n",
        "import matplotlib.pyplot as plt\n",
        "import keras\n",
        "from keras.layers import *\n",
        "from keras.models import *\n",
        "from keras.preprocessing import image"
      ],
      "metadata": {
        "id": "Af1ZHUZfHaH_"
      },
      "execution_count": null,
      "outputs": []
    },
    {
      "cell_type": "code",
      "source": [
        "model = Sequential()\n",
        "model.add(Conv2D(32,kernel_size=(3,3),activation=\"relu\",input_shape=(224,224,3)))\n",
        "\n",
        "model.add(Conv2D(64,kernel_size=(3,3),activation=\"relu\"))\n",
        "model.add(MaxPooling2D(pool_size=(2,2)))\n",
        "model.add(Dropout(0.25))\n",
        "\n",
        "model.add(Conv2D(64,kernel_size=(3,3),activation=\"relu\"))\n",
        "model.add(MaxPooling2D(pool_size=(2,2)))\n",
        "model.add(Dropout(0.25))\n",
        "\n",
        "model.add(Conv2D(128,kernel_size=(3,3),activation=\"relu\"))\n",
        "model.add(MaxPooling2D(pool_size=(2,2)))\n",
        "model.add(Dropout(0.25))\n",
        "\n",
        "model.add(Flatten())\n",
        "model.add(Dense(64,activation=\"relu\"))\n",
        "model.add(Dropout(0.5))\n",
        "model.add(Dense(1,activation=\"sigmoid\"))\n",
        "\n",
        "model.compile(loss=keras.losses.binary_crossentropy,optimizer=\"adam\",metrics=['accuracy'])"
      ],
      "metadata": {
        "id": "IMk6P50xInin"
      },
      "execution_count": null,
      "outputs": []
    },
    {
      "cell_type": "code",
      "source": [
        "model.summary()"
      ],
      "metadata": {
        "colab": {
          "base_uri": "https://localhost:8080/"
        },
        "id": "OhN6nV5AObeD",
        "outputId": "83d03bce-f703-4d80-ee41-16a5560a81b6"
      },
      "execution_count": null,
      "outputs": [
        {
          "output_type": "stream",
          "name": "stdout",
          "text": [
            "Model: \"sequential\"\n",
            "_________________________________________________________________\n",
            " Layer (type)                Output Shape              Param #   \n",
            "=================================================================\n",
            " conv2d (Conv2D)             (None, 222, 222, 32)      896       \n",
            "                                                                 \n",
            " conv2d_1 (Conv2D)           (None, 220, 220, 64)      18496     \n",
            "                                                                 \n",
            " max_pooling2d (MaxPooling2D  (None, 110, 110, 64)     0         \n",
            " )                                                               \n",
            "                                                                 \n",
            " dropout (Dropout)           (None, 110, 110, 64)      0         \n",
            "                                                                 \n",
            " conv2d_2 (Conv2D)           (None, 108, 108, 64)      36928     \n",
            "                                                                 \n",
            " max_pooling2d_1 (MaxPooling  (None, 54, 54, 64)       0         \n",
            " 2D)                                                             \n",
            "                                                                 \n",
            " dropout_1 (Dropout)         (None, 54, 54, 64)        0         \n",
            "                                                                 \n",
            " conv2d_3 (Conv2D)           (None, 52, 52, 128)       73856     \n",
            "                                                                 \n",
            " max_pooling2d_2 (MaxPooling  (None, 26, 26, 128)      0         \n",
            " 2D)                                                             \n",
            "                                                                 \n",
            " dropout_2 (Dropout)         (None, 26, 26, 128)       0         \n",
            "                                                                 \n",
            " flatten (Flatten)           (None, 86528)             0         \n",
            "                                                                 \n",
            " dense (Dense)               (None, 64)                5537856   \n",
            "                                                                 \n",
            " dropout_3 (Dropout)         (None, 64)                0         \n",
            "                                                                 \n",
            " dense_1 (Dense)             (None, 1)                 65        \n",
            "                                                                 \n",
            "=================================================================\n",
            "Total params: 5,668,097\n",
            "Trainable params: 5,668,097\n",
            "Non-trainable params: 0\n",
            "_________________________________________________________________\n"
          ]
        }
      ]
    },
    {
      "cell_type": "code",
      "source": [
        "train_datagen = image.ImageDataGenerator(\n",
        "    rescale = 1./255,\n",
        "    shear_range = 0.2,\n",
        "    zoom_range = 0.2,\n",
        "    horizontal_flip = True,\n",
        ")\n",
        "\n",
        "test_dataset = image.ImageDataGenerator(rescale=1./255)"
      ],
      "metadata": {
        "id": "pLsyoyVvP2iz"
      },
      "execution_count": null,
      "outputs": []
    },
    {
      "cell_type": "code",
      "source": [
        "train_generator = train_datagen.flow_from_directory(\n",
        "    '/content/drive/MyDrive/CovidDataset/Train',\n",
        "    target_size = (224,224),\n",
        "    batch_size = 32,\n",
        "    class_mode = 'binary',\n",
        ") "
      ],
      "metadata": {
        "colab": {
          "base_uri": "https://localhost:8080/"
        },
        "id": "NbIribiRQjjS",
        "outputId": "a9d12b96-3c26-437a-ce3a-0eb5499b1fa1"
      },
      "execution_count": null,
      "outputs": [
        {
          "output_type": "stream",
          "name": "stdout",
          "text": [
            "Found 224 images belonging to 2 classes.\n"
          ]
        }
      ]
    },
    {
      "cell_type": "code",
      "source": [
        "train_generator.class_indices"
      ],
      "metadata": {
        "colab": {
          "base_uri": "https://localhost:8080/"
        },
        "id": "goC_58SLSUs5",
        "outputId": "b7a89d16-02ba-4953-f12f-1da3697ebb26"
      },
      "execution_count": null,
      "outputs": [
        {
          "output_type": "execute_result",
          "data": {
            "text/plain": [
              "{'Covid': 0, 'Normal': 1}"
            ]
          },
          "metadata": {},
          "execution_count": 19
        }
      ]
    },
    {
      "cell_type": "code",
      "source": [
        "validation_generator = test_dataset.flow_from_directory(\n",
        "    '/content/drive/MyDrive/CovidDataset/Val',\n",
        "    target_size = (224,224),\n",
        "    batch_size = 32,\n",
        "    class_mode = 'binary',\n",
        ") "
      ],
      "metadata": {
        "colab": {
          "base_uri": "https://localhost:8080/"
        },
        "id": "suob4MHhSiCa",
        "outputId": "808dbf05-65a1-46f2-8f7e-ca93a7af52e2"
      },
      "execution_count": null,
      "outputs": [
        {
          "output_type": "stream",
          "name": "stdout",
          "text": [
            "Found 60 images belonging to 2 classes.\n"
          ]
        }
      ]
    },
    {
      "cell_type": "code",
      "source": [
        "hist = model.fit_generator(\n",
        "    train_generator,\n",
        "    steps_per_epoch = 7,\n",
        "    epochs = 10,\n",
        "    validation_data = validation_generator,\n",
        "    validation_steps = 2,\n",
        ")"
      ],
      "metadata": {
        "colab": {
          "base_uri": "https://localhost:8080/"
        },
        "id": "0K7uDNm5T-G6",
        "outputId": "993396a5-a98b-4c01-c126-8b61a9329664"
      },
      "execution_count": null,
      "outputs": [
        {
          "output_type": "stream",
          "name": "stderr",
          "text": [
            "/usr/local/lib/python3.7/dist-packages/ipykernel_launcher.py:6: UserWarning: `Model.fit_generator` is deprecated and will be removed in a future version. Please use `Model.fit`, which supports generators.\n",
            "  \n"
          ]
        },
        {
          "output_type": "stream",
          "name": "stdout",
          "text": [
            "Epoch 1/10\n",
            "7/7 [==============================] - 105s 14s/step - loss: 1.5290 - accuracy: 0.6027 - val_loss: 0.6764 - val_accuracy: 0.5000\n",
            "Epoch 2/10\n",
            "7/7 [==============================] - 72s 10s/step - loss: 0.5901 - accuracy: 0.6562 - val_loss: 0.5543 - val_accuracy: 0.6000\n",
            "Epoch 3/10\n",
            "7/7 [==============================] - 72s 10s/step - loss: 0.4369 - accuracy: 0.7991 - val_loss: 0.3223 - val_accuracy: 0.9500\n",
            "Epoch 4/10\n",
            "7/7 [==============================] - 72s 10s/step - loss: 0.3675 - accuracy: 0.8304 - val_loss: 0.2670 - val_accuracy: 0.9667\n",
            "Epoch 5/10\n",
            "7/7 [==============================] - 72s 10s/step - loss: 0.3597 - accuracy: 0.8839 - val_loss: 0.2040 - val_accuracy: 0.9500\n",
            "Epoch 6/10\n",
            "7/7 [==============================] - 72s 10s/step - loss: 0.2525 - accuracy: 0.8929 - val_loss: 0.1655 - val_accuracy: 0.9500\n",
            "Epoch 7/10\n",
            "7/7 [==============================] - 72s 10s/step - loss: 0.1806 - accuracy: 0.9375 - val_loss: 0.1666 - val_accuracy: 0.9833\n",
            "Epoch 8/10\n",
            "7/7 [==============================] - 74s 11s/step - loss: 0.1656 - accuracy: 0.9420 - val_loss: 0.0884 - val_accuracy: 0.9833\n",
            "Epoch 9/10\n",
            "7/7 [==============================] - 73s 10s/step - loss: 0.1352 - accuracy: 0.9554 - val_loss: 0.0640 - val_accuracy: 1.0000\n",
            "Epoch 10/10\n",
            "7/7 [==============================] - 73s 10s/step - loss: 0.1159 - accuracy: 0.9554 - val_loss: 0.0764 - val_accuracy: 0.9833\n"
          ]
        }
      ]
    },
    {
      "cell_type": "code",
      "source": [
        "model.save(\"/content/drive/MyDrive/model_adv.h5\")"
      ],
      "metadata": {
        "id": "rtQ2zXOLZYLE"
      },
      "execution_count": null,
      "outputs": []
    },
    {
      "cell_type": "code",
      "source": [
        "model.evaluate_generator(train_generator)"
      ],
      "metadata": {
        "colab": {
          "base_uri": "https://localhost:8080/"
        },
        "id": "R46omZ0VZgAF",
        "outputId": "6e4bee4a-5290-438a-9ab8-68a2c39db68c"
      },
      "execution_count": null,
      "outputs": [
        {
          "output_type": "stream",
          "name": "stderr",
          "text": [
            "/usr/local/lib/python3.7/dist-packages/ipykernel_launcher.py:1: UserWarning: `Model.evaluate_generator` is deprecated and will be removed in a future version. Please use `Model.evaluate`, which supports generators.\n",
            "  \"\"\"Entry point for launching an IPython kernel.\n"
          ]
        },
        {
          "output_type": "execute_result",
          "data": {
            "text/plain": [
              "[0.10054264217615128, 0.9821428656578064]"
            ]
          },
          "metadata": {},
          "execution_count": 23
        }
      ]
    },
    {
      "cell_type": "code",
      "source": [
        "model.evaluate_generator(validation_generator)"
      ],
      "metadata": {
        "colab": {
          "base_uri": "https://localhost:8080/"
        },
        "id": "g-BZuw78Zkci",
        "outputId": "e0ead105-304b-407c-936c-b43b9e0f23f5"
      },
      "execution_count": null,
      "outputs": [
        {
          "output_type": "stream",
          "name": "stderr",
          "text": [
            "/usr/local/lib/python3.7/dist-packages/ipykernel_launcher.py:1: UserWarning: `Model.evaluate_generator` is deprecated and will be removed in a future version. Please use `Model.evaluate`, which supports generators.\n",
            "  \"\"\"Entry point for launching an IPython kernel.\n"
          ]
        },
        {
          "output_type": "execute_result",
          "data": {
            "text/plain": [
              "[0.07635978609323502, 0.9833333492279053]"
            ]
          },
          "metadata": {},
          "execution_count": 24
        }
      ]
    },
    {
      "cell_type": "code",
      "source": [
        "model = load_model('/content/drive/MyDrive/model_adv.h5')"
      ],
      "metadata": {
        "id": "7yvPb5plZ-8o"
      },
      "execution_count": null,
      "outputs": []
    },
    {
      "cell_type": "code",
      "source": [
        "y_test = []\n",
        "y_actual = []"
      ],
      "metadata": {
        "id": "5Hg0xLoRSuUS"
      },
      "execution_count": null,
      "outputs": []
    },
    {
      "cell_type": "code",
      "source": [
        "for i in os.listdir(\"/content/drive/MyDrive/CovidDataset/Val/Normal\"): \n",
        "  img = image.load_img(\"/content/drive/MyDrive/CovidDataset/Val/Normal/\"+i, target_size=(224,224))\n",
        "  img = image.img_to_array(img)\n",
        "  img = np.expand_dims(img,axis=0)\n",
        "  P = (model.predict(img) > 0.5).astype(\"int32\")\n",
        "  y_test.append(P[0,0])\n",
        "  y_actual.append(1)"
      ],
      "metadata": {
        "id": "vBH4uHz7Sf_w"
      },
      "execution_count": null,
      "outputs": []
    },
    {
      "cell_type": "code",
      "source": [
        "for i in os.listdir(\"/content/drive/MyDrive/CovidDataset/Val/Covid\"): \n",
        "  img = image.load_img(\"/content/drive/MyDrive/CovidDataset/Val/Covid/\"+i, target_size=(224,224))\n",
        "  img = image.img_to_array(img)\n",
        "  img = np.expand_dims(img,axis=0) \n",
        "  P = (model.predict(img) > 0.5).astype(\"int32\")\n",
        "  y_test.append(P[0,0])\n",
        "  y_actual.append(0)"
      ],
      "metadata": {
        "id": "BHfby5NQPQ-C"
      },
      "execution_count": null,
      "outputs": []
    },
    {
      "cell_type": "code",
      "source": [
        "y_actual = np.array(y_actual)\n",
        "y_test = np.array(y_test)"
      ],
      "metadata": {
        "id": "E_uUfu5jT-sS"
      },
      "execution_count": null,
      "outputs": []
    },
    {
      "cell_type": "code",
      "source": [
        "print(y_actual)\n",
        "print(y_test)"
      ],
      "metadata": {
        "colab": {
          "base_uri": "https://localhost:8080/"
        },
        "id": "uvbUHu91XSBu",
        "outputId": "38ec4b6b-eaa1-454e-c1ca-7b5d6321e6f9"
      },
      "execution_count": null,
      "outputs": [
        {
          "output_type": "stream",
          "name": "stdout",
          "text": [
            "[1 1 1 1 1 1 1 1 1 1 1 1 1 1 1 1 1 1 1 1 1 1 1 1 1 1 1 1 1 1 0 0 0 0 0 0 0\n",
            " 0 0 0 0 0 0 0 0 0 0 0 0 0 0 0 0 0 0 0 0 0 0 0]\n",
            "[1 1 1 1 1 1 1 1 1 1 1 1 1 1 1 1 1 1 1 1 1 1 1 1 1 1 1 1 1 1 0 0 0 0 0 0 0\n",
            " 0 0 0 0 0 0 0 0 0 0 0 0 0 0 1 0 0 0 0 0 0 0 0]\n"
          ]
        }
      ]
    },
    {
      "cell_type": "code",
      "source": [
        "from sklearn.metrics import confusion_matrix"
      ],
      "metadata": {
        "id": "tdP7Hf_JULj0"
      },
      "execution_count": null,
      "outputs": []
    },
    {
      "cell_type": "code",
      "source": [
        "cm = confusion_matrix(y_actual,y_test)"
      ],
      "metadata": {
        "id": "PlxTtfHbUZQn"
      },
      "execution_count": null,
      "outputs": []
    },
    {
      "cell_type": "code",
      "source": [
        "import seaborn as sns"
      ],
      "metadata": {
        "id": "e1rXXfefWnZI"
      },
      "execution_count": null,
      "outputs": []
    },
    {
      "cell_type": "code",
      "source": [
        "sns.heatmap(cm,annot=True)"
      ],
      "metadata": {
        "colab": {
          "base_uri": "https://localhost:8080/",
          "height": 286
        },
        "id": "ziAPKVYmWti3",
        "outputId": "55e726d3-b32e-43f9-a6a7-96a10c954ea1"
      },
      "execution_count": null,
      "outputs": [
        {
          "output_type": "execute_result",
          "data": {
            "text/plain": [
              "<matplotlib.axes._subplots.AxesSubplot at 0x7fa4a97061d0>"
            ]
          },
          "metadata": {},
          "execution_count": 91
        },
        {
          "output_type": "display_data",
          "data": {
            "text/plain": [
              "<Figure size 432x288 with 2 Axes>"
            ],
            "image/png": "[encoded data removed]"
          },
          "metadata": {
            "needs_background": "light"
          }
        }
      ]
    }
  ]
}